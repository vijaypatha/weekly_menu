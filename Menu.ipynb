{
 "cells": [
  {
   "cell_type": "markdown",
   "metadata": {},
   "source": [
    "## Create a Menu\n",
    "\n",
    "#### What food will eat each day of the week?\n",
    "- Lessons Learned: \n",
    "    - *random.sample* out of a population \n",
    "    - Turning list into columns\n",
    "    "
   ]
  },
  {
   "cell_type": "code",
   "execution_count": 35,
   "metadata": {},
   "outputs": [
    {
     "name": "stdout",
     "output_type": "stream",
     "text": [
      "['Brown Rice Chile', 'pad thai', 'Mint Rice', 'Dal', 'Brazilian Rice and Beans', 'Tacos', 'Black Bean Burger']\n"
     ]
    },
    {
     "data": {
      "text/html": [
       "<div>\n",
       "<style scoped>\n",
       "    .dataframe tbody tr th:only-of-type {\n",
       "        vertical-align: middle;\n",
       "    }\n",
       "\n",
       "    .dataframe tbody tr th {\n",
       "        vertical-align: top;\n",
       "    }\n",
       "\n",
       "    .dataframe thead th {\n",
       "        text-align: right;\n",
       "    }\n",
       "</style>\n",
       "<table border=\"1\" class=\"dataframe\">\n",
       "  <thead>\n",
       "    <tr style=\"text-align: right;\">\n",
       "      <th></th>\n",
       "      <th>weekday</th>\n",
       "      <th>Recepies</th>\n",
       "    </tr>\n",
       "  </thead>\n",
       "  <tbody>\n",
       "    <tr>\n",
       "      <th>0</th>\n",
       "      <td>Monday</td>\n",
       "      <td>Brown Rice Chile</td>\n",
       "    </tr>\n",
       "    <tr>\n",
       "      <th>1</th>\n",
       "      <td>Tuesday</td>\n",
       "      <td>pad thai</td>\n",
       "    </tr>\n",
       "    <tr>\n",
       "      <th>2</th>\n",
       "      <td>Wednesday</td>\n",
       "      <td>Mint Rice</td>\n",
       "    </tr>\n",
       "    <tr>\n",
       "      <th>3</th>\n",
       "      <td>Thursday</td>\n",
       "      <td>Dal</td>\n",
       "    </tr>\n",
       "    <tr>\n",
       "      <th>4</th>\n",
       "      <td>Friday</td>\n",
       "      <td>Brazilian Rice and Beans</td>\n",
       "    </tr>\n",
       "    <tr>\n",
       "      <th>5</th>\n",
       "      <td>Saturday</td>\n",
       "      <td>Tacos</td>\n",
       "    </tr>\n",
       "    <tr>\n",
       "      <th>6</th>\n",
       "      <td>Sunday</td>\n",
       "      <td>Black Bean Burger</td>\n",
       "    </tr>\n",
       "  </tbody>\n",
       "</table>\n",
       "</div>"
      ],
      "text/plain": [
       "     weekday                  Recepies\n",
       "0     Monday          Brown Rice Chile\n",
       "1    Tuesday                  pad thai\n",
       "2  Wednesday                 Mint Rice\n",
       "3   Thursday                       Dal\n",
       "4     Friday  Brazilian Rice and Beans\n",
       "5   Saturday                     Tacos\n",
       "6     Sunday         Black Bean Burger"
      ]
     },
     "execution_count": 35,
     "metadata": {},
     "output_type": "execute_result"
    }
   ],
   "source": [
    "import random\n",
    "import pandas as pd\n",
    "menu_items = ['veg Biryani','Black Bean Burger','Mint Rice','Brazilian Rice and Beans',\n",
    "            'Whole Grain Pasta','Brown Rice Chile','Tacos','Dal','EAT OUT!!',\n",
    "             'pad thai', 'somethig something']\n",
    "this_week_menu = random.sample(menu_items, 7)\n",
    "print(this_week_menu)\n",
    "days = ['Monday','Tuesday','Wednesday','Thursday','Friday','Saturday', 'Sunday']\n",
    "weekly_menu = pd.DataFrame({\"weekday\": days, \"Recepies\": this_week_menu})\n",
    "weekly_menu"
   ]
  },
  {
   "cell_type": "code",
   "execution_count": 53,
   "metadata": {},
   "outputs": [],
   "source": [
    "recepies = {\"Dal\": [\"Yellow dal\", \"tomatoes\", \"tamrind\", \"curry leaves\", \"salt\"],\n",
    "            \"Tacos\": [\"Organic Tortillas\", \"Sweet potatoes\", \"black beans\", \"purple cabbage\"],\n",
    "           \"Black Bean Burger\":[\"Black Beans\", \"Bread Crumbs\", \"Cummin\"],\n",
    "           \"pad thai\":[\"some\", \"thing\"]}"
   ]
  },
  {
   "cell_type": "code",
   "execution_count": 54,
   "metadata": {},
   "outputs": [
    {
     "name": "stdout",
     "output_type": "stream",
     "text": [
      "{'Dal': ['Yellow dal', 'tomatoes', 'tamrind', 'curry leaves', 'salt'], 'Tacos': ['Organic Tortillas', 'Sweet potatoes', 'black beans', 'purple cabbage'], 'Black Bean Burger': ['Black Beans', 'Bread Crumbs', 'Cummin'], 'pad thai': ['some', 'thing']}\n"
     ]
    }
   ],
   "source": [
    "print(recepies)"
   ]
  },
  {
   "cell_type": "code",
   "execution_count": 50,
   "metadata": {},
   "outputs": [
    {
     "name": "stdout",
     "output_type": "stream",
     "text": [
      "['Brown Rice Chile', 'pad thai', 'Mint Rice', 'Dal', 'Brazilian Rice and Beans', 'Tacos', 'Black Bean Burger']\n"
     ]
    }
   ],
   "source": [
    "print(this_week_menu)"
   ]
  },
  {
   "cell_type": "markdown",
   "metadata": {},
   "source": [
    "### Notes: \n",
    "- list \"this_week_menu\" is key of dictionary \"recepies\"\n",
    "\n",
    "#### Next step\n",
    "- filter the dictionary using the keys in the \"this_week_menu\""
   ]
  },
  {
   "cell_type": "code",
   "execution_count": 55,
   "metadata": {},
   "outputs": [],
   "source": [
    "item_recepie = [recepies[i] for i in this_week_menu if i in recepies] "
   ]
  },
  {
   "cell_type": "code",
   "execution_count": 52,
   "metadata": {},
   "outputs": [
    {
     "name": "stdout",
     "output_type": "stream",
     "text": [
      "[['Yellow dal', 'tomatoes', 'tamrind', 'curry leaves', 'salt'], ['Organic Tortillas', 'Sweet potatoes', 'black beans', 'purple cabbage'], ['Black Beans', 'Bread Crumbs', 'Cummin']]\n"
     ]
    }
   ],
   "source": [
    "print(item_recepie)"
   ]
  },
  {
   "cell_type": "code",
   "execution_count": null,
   "metadata": {},
   "outputs": [],
   "source": []
  }
 ],
 "metadata": {
  "kernelspec": {
   "display_name": "Python 3",
   "language": "python",
   "name": "python3"
  },
  "language_info": {
   "codemirror_mode": {
    "name": "ipython",
    "version": 3
   },
   "file_extension": ".py",
   "mimetype": "text/x-python",
   "name": "python",
   "nbconvert_exporter": "python",
   "pygments_lexer": "ipython3",
   "version": "3.7.3"
  }
 },
 "nbformat": 4,
 "nbformat_minor": 2
}
